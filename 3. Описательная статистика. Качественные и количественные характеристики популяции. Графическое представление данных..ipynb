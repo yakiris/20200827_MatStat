{
 "cells": [
  {
   "cell_type": "markdown",
   "metadata": {},
   "source": [
    "## Тема: Описательная статистика. Качественные и количественные характеристики популяции. Графическое представление данных"
   ]
  },
  {
   "cell_type": "code",
   "execution_count": 45,
   "metadata": {},
   "outputs": [],
   "source": [
    "import pandas as pd\n",
    "import numpy as np\n",
    "from math import factorial\n",
    "\n",
    "# функция расчета количества сочетаний\n",
    "def com(k, n):\n",
    "    return int(factorial(n) / (factorial(k) * factorial(n - k)))"
   ]
  },
  {
   "cell_type": "markdown",
   "metadata": {},
   "source": [
    "### 1. Даны значения зарплат из выборки выпускников: 100, 80, 75, 77, 89, 33, 45, 25, 65, 17, 30, 24, 57, 55, 70, 75, 65, 84, 90, 150. Посчитать (желательно без использования статистических методов наподобие std, var, mean) среднее арифметическое, среднее квадратичное отклонение, смещенную и несмещенную оценки дисперсий для данной выборки."
   ]
  },
  {
   "cell_type": "code",
   "execution_count": 15,
   "metadata": {},
   "outputs": [],
   "source": [
    "salary_lst = [100, 80, 75, 77, 89, 33, 45, 25, 65, 17, 30, 24, 57, 55, 70, 75, 65, 84, 90, 150]"
   ]
  },
  {
   "cell_type": "code",
   "execution_count": 16,
   "metadata": {},
   "outputs": [],
   "source": [
    "df = pd.DataFrame({'salary':salary_lst})"
   ]
  },
  {
   "cell_type": "markdown",
   "metadata": {},
   "source": [
    "**среднее арифметическое**"
   ]
  },
  {
   "cell_type": "code",
   "execution_count": 17,
   "metadata": {},
   "outputs": [
    {
     "data": {
      "text/plain": [
       "65.3"
      ]
     },
     "execution_count": 17,
     "metadata": {},
     "output_type": "execute_result"
    }
   ],
   "source": [
    "mean_salary = df['salary'].sum() / df['salary'].count()\n",
    "mean_salary"
   ]
  },
  {
   "cell_type": "markdown",
   "metadata": {},
   "source": [
    "**среднее квадратичное отклонение**"
   ]
  },
  {
   "cell_type": "code",
   "execution_count": 60,
   "metadata": {},
   "outputs": [
    {
     "data": {
      "text/plain": [
       "30.8239"
      ]
     },
     "execution_count": 60,
     "metadata": {},
     "output_type": "execute_result"
    }
   ],
   "source": [
    "std_salary = np.round(np.sqrt(((df['salary'] - df['salary'].mean())**2).sum() / df['salary'].count()), 4)\n",
    "std_salary"
   ]
  },
  {
   "cell_type": "markdown",
   "metadata": {},
   "source": [
    "**смещенная оценка дисперсии**"
   ]
  },
  {
   "cell_type": "code",
   "execution_count": 40,
   "metadata": {},
   "outputs": [
    {
     "data": {
      "text/plain": [
       "950.11"
      ]
     },
     "execution_count": 40,
     "metadata": {},
     "output_type": "execute_result"
    }
   ],
   "source": [
    "var0_salary = ((df['salary'] - df['salary'].mean())**2).sum() / df['salary'].count()\n",
    "var0_salary"
   ]
  },
  {
   "cell_type": "markdown",
   "metadata": {},
   "source": [
    "**несмещенная оценка дисперсии**"
   ]
  },
  {
   "cell_type": "code",
   "execution_count": 61,
   "metadata": {},
   "outputs": [
    {
     "data": {
      "text/plain": [
       "1000.1158"
      ]
     },
     "execution_count": 61,
     "metadata": {},
     "output_type": "execute_result"
    }
   ],
   "source": [
    "var1_salary = np.round(((df['salary'] - df['salary'].mean())**2).sum() / (df['salary'].count() - 1), 4)\n",
    "var1_salary"
   ]
  },
  {
   "cell_type": "markdown",
   "metadata": {},
   "source": [
    "### 2. В первом ящике находится 8 мячей, из которых 5 - белые. Во втором ящике - 12 мячей, из которых 5 белых. Из первого ящика вытаскивают случайным образом два мяча, из второго - 4. Какова вероятность того, что 3 мяча белые?"
   ]
  },
  {
   "cell_type": "markdown",
   "metadata": {},
   "source": [
    "возможны 3 комбинации несовместных событий\n",
    "\n",
    "1. A1 = {из 1-го ящика 0 белых, 2 черных} И B1 = {из 2-го ящика 3 белых, 1 черный} - совсестное событие \n",
    "2. A2 = {из 1-го ящика 1 белый, 1 черный} И B2 = {из 2-го ящика 2 белых, 2 черных} - совсестное событие  \n",
    "3. A3 = {из 1-го ящика 2 белых, 0 черных} И B3 = {из 2-го ящика 1 белый, 3 черных} - совсестное событие \n",
    "\n",
    "Произведение первых совместных событий $P(AB) = P(A) * P(B) = \\frac{C_5^0 * C_3^2}{C_8^2} * \\frac{C_5^3 * C_7^1}{C_{12}^4}$"
   ]
  },
  {
   "cell_type": "code",
   "execution_count": 62,
   "metadata": {},
   "outputs": [
    {
     "data": {
      "text/plain": [
       "0.0152"
      ]
     },
     "execution_count": 62,
     "metadata": {},
     "output_type": "execute_result"
    }
   ],
   "source": [
    "A1B1 = np.round((com(0,5) * com(2,3) / com(2,8)) * (com(3,5) * com(1,7) / com(4,12)), 4)\n",
    "A1B1"
   ]
  },
  {
   "cell_type": "markdown",
   "metadata": {},
   "source": [
    "Произведение вторых совместных событий $P(AB) = P(A) * P(B) = \\frac{C_5^1 * C_3^1}{C_8^2} * \\frac{C_5^2 * C_7^2}{C_{12}^4}$"
   ]
  },
  {
   "cell_type": "code",
   "execution_count": 63,
   "metadata": {},
   "outputs": [
    {
     "data": {
      "text/plain": [
       "0.2273"
      ]
     },
     "execution_count": 63,
     "metadata": {},
     "output_type": "execute_result"
    }
   ],
   "source": [
    "A2B2 = np.round((com(1,5) * com(1,3) / com(2,8)) * (com(2,5) * com(2,7) / com(4,12)), 4)\n",
    "A2B2"
   ]
  },
  {
   "cell_type": "markdown",
   "metadata": {},
   "source": [
    "Произведение третьих совместных событий $P(AB) = P(A) * P(B) = \\frac{C_5^2 * C_3^0}{C_8^2} * \\frac{C_5^1 * C_7^3}{C_{12}^4}$"
   ]
  },
  {
   "cell_type": "code",
   "execution_count": 64,
   "metadata": {},
   "outputs": [
    {
     "data": {
      "text/plain": [
       "0.1263"
      ]
     },
     "execution_count": 64,
     "metadata": {},
     "output_type": "execute_result"
    }
   ],
   "source": [
    "A3B3 = np.round((com(2,5) * com(0,3) / com(2,8)) * (com(1,5) * com(3,7) / com(4,12)), 4)\n",
    "A3B3"
   ]
  },
  {
   "cell_type": "markdown",
   "metadata": {},
   "source": [
    "Сумма совсестных событий $P(A + B) = P(A) + P(B)$"
   ]
  },
  {
   "cell_type": "code",
   "execution_count": 65,
   "metadata": {},
   "outputs": [
    {
     "data": {
      "text/plain": [
       "0.3688"
      ]
     },
     "execution_count": 65,
     "metadata": {},
     "output_type": "execute_result"
    }
   ],
   "source": [
    "P = A1B1 + A2B2 + A3B3\n",
    "P"
   ]
  },
  {
   "cell_type": "markdown",
   "metadata": {},
   "source": [
    "### 3. На соревновании по биатлону один из трех спортсменов стреляет и попадает в мишень. Вероятность попадания для первого спортсмена равна 0.9, для второго — 0.8, для третьего — 0.6. Найти вероятность того, что выстрел произведен:\n",
    "\n",
    "### a) первым спортсменом"
   ]
  },
  {
   "cell_type": "markdown",
   "metadata": {},
   "source": [
    "Событие **А** = {попадание в мишень}  \n",
    "События **В1, В2, В3** = {выстрел совершил первый, второй, третий спортсмен}  \n",
    "**P(В1) = P(В2) = P(В3)** = 1/3  \n",
    "**P(A|B1)** = 0.9  \n",
    "**P(A|B2)** = 0.8  \n",
    "**P(A|B3)** = 0.6  "
   ]
  },
  {
   "cell_type": "code",
   "execution_count": 66,
   "metadata": {},
   "outputs": [],
   "source": [
    "B1 = B2 = B3 = 1/3\n",
    "A_B1 = 0.9\n",
    "A_B2 = 0.8\n",
    "A_B3 = 0.6"
   ]
  },
  {
   "cell_type": "markdown",
   "metadata": {},
   "source": [
    "Найдем вероятнось события **P(А)** по формуле **полной вероятности**: \n",
    "\n",
    "$$P(A) = P(B1) * P(A|B1) + P(B2) * P(A|B2) + P(B3) * P(A|B3) = 1/3 * 0.9 + 1/3 * 0.8 + 1/3 * 0.6$$"
   ]
  },
  {
   "cell_type": "code",
   "execution_count": 67,
   "metadata": {},
   "outputs": [
    {
     "data": {
      "text/plain": [
       "0.7667"
      ]
     },
     "execution_count": 67,
     "metadata": {},
     "output_type": "execute_result"
    }
   ],
   "source": [
    "A = np.round((B1 * A_B1) + (B2 * A_B2) + (B3 * A_B3), 4)\n",
    "A"
   ]
  },
  {
   "cell_type": "markdown",
   "metadata": {},
   "source": [
    "Найдем вероятность попадания первым спортсменом при условии, что выстрел был удачным по формуле **Байеса**: \n",
    "\n",
    "$$P(B|A) = \\frac{P(B)*P(A|B)}{P(A} \\Rightarrow P(B1|A) = \\frac{P(B1) * P(A|B1)}{P(A)} = \\frac{\\frac{1}{3} * 0.9}{0.7666}$$"
   ]
  },
  {
   "cell_type": "code",
   "execution_count": 68,
   "metadata": {},
   "outputs": [
    {
     "data": {
      "text/plain": [
       "0.3913"
      ]
     },
     "execution_count": 68,
     "metadata": {},
     "output_type": "execute_result"
    }
   ],
   "source": [
    "B1_A = np.round(B1 * A_B1 / A, 4)\n",
    "B1_A"
   ]
  },
  {
   "cell_type": "markdown",
   "metadata": {},
   "source": [
    "### б) вторым спортсменом\n",
    "\n",
    "$$P(B2|A) = \\frac{P(B2) * P(A|B2)}{P(A)} = \\frac{\\frac{1}{3} * 0.8}{0.7666}$$"
   ]
  },
  {
   "cell_type": "code",
   "execution_count": 69,
   "metadata": {},
   "outputs": [
    {
     "data": {
      "text/plain": [
       "0.3478"
      ]
     },
     "execution_count": 69,
     "metadata": {},
     "output_type": "execute_result"
    }
   ],
   "source": [
    "B2_A = np.round(B2 * A_B2 / A, 4)\n",
    "B2_A"
   ]
  },
  {
   "cell_type": "markdown",
   "metadata": {},
   "source": [
    "### в) третьим спортсменом\n",
    "\n",
    "$$P(B3|A) = \\frac{P(B3) * P(A|B3)}{P(A)} = \\frac{\\frac{1}{3} * 0.6}{0.7666}$$"
   ]
  },
  {
   "cell_type": "code",
   "execution_count": 70,
   "metadata": {},
   "outputs": [
    {
     "data": {
      "text/plain": [
       "0.2609"
      ]
     },
     "execution_count": 70,
     "metadata": {},
     "output_type": "execute_result"
    }
   ],
   "source": [
    "B3_A = np.round(B3 * A_B3 / A, 4)\n",
    "B3_A"
   ]
  },
  {
   "cell_type": "markdown",
   "metadata": {},
   "source": [
    "### 4. В университет на факультеты A и B поступило равное количество студентов, а на факультет C студентов поступило столько же, сколько на A и B вместе. Вероятность того, что студент факультета A сдаст первую сессию, равна 0.8. Для студента факультета B эта вероятность равна 0.7, а для студента факультета C - 0.9. Студент сдал первую сессию. Какова вероятность, что он учится: \n",
    "\n",
    "### a) на факультете A?\n",
    "\n",
    "Событие **А** = {сдача сессии}  \n",
    "События **В1, В2, В3** = {сдал сессию студент факультета А, В, С}  \n",
    "**P(В1) = P(В2)** = 1/4  \n",
    "**P(В3)** = 2/4  \n",
    "**P(A|B1)** = 0.8  \n",
    "**P(A|B2)** = 0.7  \n",
    "**P(A|B3)** = 0.9"
   ]
  },
  {
   "cell_type": "code",
   "execution_count": 71,
   "metadata": {},
   "outputs": [],
   "source": [
    "B1 = B2 = 1/4\n",
    "B3 = 2/4\n",
    "A_B1 = 0.8\n",
    "A_B2 = 0.7\n",
    "A_B3 = 0.9"
   ]
  },
  {
   "cell_type": "markdown",
   "metadata": {},
   "source": [
    "Найдем вероятнось события **P(А)** по формуле **полной вероятности**: \n",
    "\n",
    "$$P(A) = P(B1) * P(A|B1) + P(B2) * P(A|B2) + P(B3) * P(A|B3) = 1/4 * 0.8 + 1/4 * 0.7 + 2/4 * 0.9$$"
   ]
  },
  {
   "cell_type": "code",
   "execution_count": 72,
   "metadata": {},
   "outputs": [
    {
     "data": {
      "text/plain": [
       "0.825"
      ]
     },
     "execution_count": 72,
     "metadata": {},
     "output_type": "execute_result"
    }
   ],
   "source": [
    "A = (B1 * A_B1) + (B2 * A_B2) + (B3 * A_B3)\n",
    "A"
   ]
  },
  {
   "cell_type": "markdown",
   "metadata": {},
   "source": [
    "Найдем вероятность сдачи сессии студентом факультета А при условии, что сессия сдана по формуле **Байеса**: \n",
    "\n",
    "$$P(B|A) = \\frac{P(B)*P(A|B)}{P(A} \\Rightarrow P(B1|A) = \\frac{P(B1) * P(A|B1)}{P(A)} = \\frac{\\frac{1}{4} * 0.8}{0.825}$$"
   ]
  },
  {
   "cell_type": "code",
   "execution_count": 73,
   "metadata": {},
   "outputs": [
    {
     "data": {
      "text/plain": [
       "0.2424"
      ]
     },
     "execution_count": 73,
     "metadata": {},
     "output_type": "execute_result"
    }
   ],
   "source": [
    "B1_A = np.round(B1 * A_B1 / A, 4)\n",
    "B1_A"
   ]
  },
  {
   "cell_type": "markdown",
   "metadata": {},
   "source": [
    "### б) на факультете B?\n",
    "\n",
    "$$P(B1|A) = \\frac{P(B1) * P(A|B1)}{P(A)} = \\frac{\\frac{1}{4} * 0.7}{0.825}$$"
   ]
  },
  {
   "cell_type": "code",
   "execution_count": 74,
   "metadata": {},
   "outputs": [
    {
     "data": {
      "text/plain": [
       "0.2121"
      ]
     },
     "execution_count": 74,
     "metadata": {},
     "output_type": "execute_result"
    }
   ],
   "source": [
    "B2_A = np.round(B2 * A_B2 / A, 4)\n",
    "B2_A"
   ]
  },
  {
   "cell_type": "markdown",
   "metadata": {},
   "source": [
    " ### в) на факультете C?\n",
    " \n",
    " $$P(B1|A) = \\frac{P(B1) * P(A|B1)}{P(A)} = \\frac{\\frac{2}{4} * 0.9}{0.825}$$"
   ]
  },
  {
   "cell_type": "code",
   "execution_count": 75,
   "metadata": {},
   "outputs": [
    {
     "data": {
      "text/plain": [
       "0.5455"
      ]
     },
     "execution_count": 75,
     "metadata": {},
     "output_type": "execute_result"
    }
   ],
   "source": [
    "B3_A = np.round(B3 * A_B3 / A, 4)\n",
    "B3_A"
   ]
  },
  {
   "cell_type": "markdown",
   "metadata": {},
   "source": [
    "### 5. Устройство состоит из трех деталей. Для первой детали вероятность выйти из строя в первый месяц равна 0.1, для второй - 0.2, для третьей - 0.25. Какова вероятность того, что в первый месяц выйдут из строя: \n",
    "\n",
    "### а) все детали \n",
    "\n",
    "**P(B1)** = 0.1  \n",
    "**P(B2)** = 0.2  \n",
    "**P(B3)** = 0.25\n",
    "\n",
    "Т.к. события должны произойти одновременно используем формулу произведения: \n",
    "\n",
    "$$P(A) = P(B1) * P(B2) * P(B3) = 0.1 * 0.2 * 0.25$$"
   ]
  },
  {
   "cell_type": "code",
   "execution_count": 87,
   "metadata": {},
   "outputs": [
    {
     "data": {
      "text/plain": [
       "0.005"
      ]
     },
     "execution_count": 87,
     "metadata": {},
     "output_type": "execute_result"
    }
   ],
   "source": [
    "B1 = 0.1\n",
    "B2 = 0.2\n",
    "B3 = 0.25\n",
    "\n",
    "A1 = np.round(B1 * B2 * B3, 4)\n",
    "A1"
   ]
  },
  {
   "cell_type": "markdown",
   "metadata": {},
   "source": [
    "### б) только две детали\n",
    "\n",
    "возможны 3 комбинации несовместных событий  \n",
    "\n",
    "1. B1 * B2  \n",
    "2. B1 * B3  \n",
    "3. B2 * B3  \n",
    "\n",
    "Используем одновременно формулу сложения совместный событий и формулу произведения несовместных событий."
   ]
  },
  {
   "cell_type": "code",
   "execution_count": 88,
   "metadata": {},
   "outputs": [
    {
     "data": {
      "text/plain": [
       "0.095"
      ]
     },
     "execution_count": 88,
     "metadata": {},
     "output_type": "execute_result"
    }
   ],
   "source": [
    "A2 = B1 * B2 + B1 * B3 + B2 * B3\n",
    "A2"
   ]
  },
  {
   "cell_type": "markdown",
   "metadata": {},
   "source": [
    "### в) хотя бы одна деталь \n",
    "\n",
    "Для упрощения расчетов можно использовать противоположные события"
   ]
  },
  {
   "cell_type": "code",
   "execution_count": 89,
   "metadata": {},
   "outputs": [
    {
     "data": {
      "text/plain": [
       "0.54"
      ]
     },
     "execution_count": 89,
     "metadata": {},
     "output_type": "execute_result"
    }
   ],
   "source": [
    "A3 = (1 - B1) * (1 - B2) * (1 - B3)\n",
    "A3"
   ]
  },
  {
   "cell_type": "markdown",
   "metadata": {},
   "source": [
    "### г) от одной до двух деталей\n",
    "\n",
    "Для выполнения условия достаточно сложить уже расчитанные \"только две детали\" и вероятность одной детали."
   ]
  },
  {
   "cell_type": "code",
   "execution_count": 90,
   "metadata": {},
   "outputs": [
    {
     "data": {
      "text/plain": [
       "0.645"
      ]
     },
     "execution_count": 90,
     "metadata": {},
     "output_type": "execute_result"
    }
   ],
   "source": [
    "A4 = A2 + B1 + B2 + B3\n",
    "A4"
   ]
  },
  {
   "cell_type": "code",
   "execution_count": null,
   "metadata": {},
   "outputs": [],
   "source": []
  }
 ],
 "metadata": {
  "kernelspec": {
   "display_name": "Python 3",
   "language": "python",
   "name": "python3"
  },
  "language_info": {
   "codemirror_mode": {
    "name": "ipython",
    "version": 3
   },
   "file_extension": ".py",
   "mimetype": "text/x-python",
   "name": "python",
   "nbconvert_exporter": "python",
   "pygments_lexer": "ipython3",
   "version": "3.7.4"
  }
 },
 "nbformat": 4,
 "nbformat_minor": 2
}
