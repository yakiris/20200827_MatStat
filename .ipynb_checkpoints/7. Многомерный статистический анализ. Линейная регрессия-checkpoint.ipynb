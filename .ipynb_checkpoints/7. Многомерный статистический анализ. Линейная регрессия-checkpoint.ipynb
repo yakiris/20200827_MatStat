{
 "cells": [
  {
   "cell_type": "markdown",
   "metadata": {},
   "source": [
    "## Тема: Многомерный статистический анализ. Линейная регрессия"
   ]
  },
  {
   "cell_type": "code",
   "execution_count": 1,
   "metadata": {},
   "outputs": [],
   "source": [
    "import numpy as np"
   ]
  },
  {
   "cell_type": "markdown",
   "metadata": {},
   "source": [
    "### 1. Даны значения величины заработной платы заемщиков банка (zp) и значения их поведенческого кредитного скоринга (ks): zp = [35, 45, 190, 200, 40, 70, 54, 150, 120, 110], ks = [401, 574, 874, 919, 459, 739, 653, 902, 746, 832]. Используя математические операции, посчитать коэффициенты линейной регрессии, приняв за X заработную плату (то есть, zp - признак), а за y - значения скорингового балла (то есть, ks - целевая переменная). Произвести расчет как с использованием intercept, так и без.\n",
    "\n",
    "**Решение с intercept**\n",
    "$$b = \\frac{\\overline{yx} - \\overline{y} \\cdot {\\overline{x}}}{\\overline{x^2} - (\\overline{x})^2}$$\n",
    "\n",
    "$$a = \\overline{y} - b \\cdot {\\overline{x}}$$"
   ]
  },
  {
   "cell_type": "code",
   "execution_count": 9,
   "metadata": {},
   "outputs": [],
   "source": [
    "x = np.array([35, 45, 190, 200, 40, 70, 54, 150, 120, 110])\n",
    "y = np.array([401, 574, 874, 919, 459, 739, 653, 902, 746, 832])"
   ]
  },
  {
   "cell_type": "code",
   "execution_count": 3,
   "metadata": {},
   "outputs": [
    {
     "data": {
      "text/plain": [
       "2.620538882402765"
      ]
     },
     "execution_count": 3,
     "metadata": {},
     "output_type": "execute_result"
    }
   ],
   "source": [
    "b = (np.mean(x * y) - np.mean(x) * np.mean(y)) / (np.mean(x**2) - np.mean(x) ** 2)\n",
    "b"
   ]
  },
  {
   "cell_type": "code",
   "execution_count": 4,
   "metadata": {},
   "outputs": [
    {
     "data": {
      "text/plain": [
       "444.1773573243596"
      ]
     },
     "execution_count": 4,
     "metadata": {},
     "output_type": "execute_result"
    }
   ],
   "source": [
    "a = np.mean(y) - b * np.mean(x)\n",
    "a"
   ]
  },
  {
   "cell_type": "markdown",
   "metadata": {},
   "source": [
    "**Решение без intercept**\n",
    "\n",
    "$$y = \\beta_1 * x$$\n",
    "\n",
    "$$\\hat{B} = (x^T * x)^{-1} * x^T * y$$"
   ]
  },
  {
   "cell_type": "code",
   "execution_count": 5,
   "metadata": {},
   "outputs": [
    {
     "data": {
      "text/plain": [
       "array([[ 35],\n",
       "       [ 45],\n",
       "       [190],\n",
       "       [200],\n",
       "       [ 40],\n",
       "       [ 70],\n",
       "       [ 54],\n",
       "       [150],\n",
       "       [120],\n",
       "       [110]])"
      ]
     },
     "execution_count": 5,
     "metadata": {},
     "output_type": "execute_result"
    }
   ],
   "source": [
    "x = x.reshape(10,1)\n",
    "x"
   ]
  },
  {
   "cell_type": "code",
   "execution_count": 6,
   "metadata": {},
   "outputs": [
    {
     "data": {
      "text/plain": [
       "array([[401],\n",
       "       [574],\n",
       "       [874],\n",
       "       [919],\n",
       "       [459],\n",
       "       [739],\n",
       "       [653],\n",
       "       [902],\n",
       "       [746],\n",
       "       [832]])"
      ]
     },
     "execution_count": 6,
     "metadata": {},
     "output_type": "execute_result"
    }
   ],
   "source": [
    "y = y.reshape(10,1)\n",
    "y"
   ]
  },
  {
   "cell_type": "code",
   "execution_count": 7,
   "metadata": {},
   "outputs": [
    {
     "data": {
      "text/plain": [
       "array([[5.88982042]])"
      ]
     },
     "execution_count": 7,
     "metadata": {},
     "output_type": "execute_result"
    }
   ],
   "source": [
    "B = np.dot(np.linalg.inv(np.dot(x.T, x)), x.T @ y)\n",
    "B"
   ]
  },
  {
   "cell_type": "markdown",
   "metadata": {},
   "source": [
    "### 2. Посчитать коэффициент линейной регрессии при заработной плате (zp), используя градиентный спуск (без intercept).\n",
    "\n",
    "$$y = \\beta_1 * x$$"
   ]
  },
  {
   "cell_type": "code",
   "execution_count": 34,
   "metadata": {},
   "outputs": [],
   "source": [
    "x = np.array([35, 45, 190, 200, 40, 70, 54, 150, 120, 110])\n",
    "y = np.array([401, 574, 874, 919, 459, 739, 653, 902, 746, 832])"
   ]
  },
  {
   "cell_type": "code",
   "execution_count": 15,
   "metadata": {},
   "outputs": [],
   "source": [
    "def mse_(B1, y=y, x=x, n=10):\n",
    "    return np.sum((B1*x-y)**2)/n"
   ]
  },
  {
   "cell_type": "code",
   "execution_count": 26,
   "metadata": {},
   "outputs": [
    {
     "data": {
      "text/plain": [
       "10"
      ]
     },
     "execution_count": 26,
     "metadata": {},
     "output_type": "execute_result"
    }
   ],
   "source": [
    "alpha = 1e-6\n",
    "B1 = 0.5\n",
    "n = len(x)\n",
    "n"
   ]
  },
  {
   "cell_type": "code",
   "execution_count": 27,
   "metadata": {},
   "outputs": [
    {
     "name": "stdout",
     "output_type": "stream",
     "text": [
      "Iteration: 0, B1=0.6485068, mse=434978.9132049683\n",
      "Iteration: 25, B1=3.2831481282998825, mse=150125.27952021617\n",
      "Iteration: 50, B1=4.5934392207880705, mse=79669.87043050732\n",
      "Iteration: 75, B1=5.245088737028589, mse=62243.50094458435\n",
      "Iteration: 100, B1=5.56917480801768, mse=57933.280375525705\n",
      "Iteration: 125, B1=5.730353138993955, mse=56867.194787879744\n",
      "Iteration: 150, B1=5.810512259369029, mse=56603.510258984556\n",
      "Iteration: 175, B1=5.850377944417293, mse=56538.290794821085\n",
      "Iteration: 200, B1=5.870204420018959, mse=56522.15947864721\n",
      "Iteration: 225, B1=5.880064758159585, mse=56518.169575251966\n",
      "Iteration: 250, B1=5.884968618543086, mse=56517.182716589494\n",
      "Iteration: 275, B1=5.887407464586485, mse=56516.93862796796\n",
      "Iteration: 300, B1=5.88862038044425, mse=56516.87825533567\n",
      "Iteration: 325, B1=5.88922360215314, mse=56516.86332282998\n",
      "Iteration: 350, B1=5.889523603532249, mse=56516.85962943917\n",
      "Iteration: 375, B1=5.889672803778431, mse=56516.858715919625\n",
      "Iteration: 400, B1=5.889747005815525, mse=56516.85848997063\n",
      "Iteration: 425, B1=5.88978390885322, mse=56516.85843408463\n",
      "Iteration: 450, B1=5.88980226190988, mse=56516.85842026184\n",
      "Iteration: 475, B1=5.889811389469825, mse=56516.85841684294\n"
     ]
    }
   ],
   "source": [
    "for i in range(500):\n",
    "    B1 -= alpha*(2/n)*np.sum((B1*x-y)*x)\n",
    "    if i % 25 == 0:\n",
    "        print('Iteration: {i}, B1={B1}, mse={mse}'.format(i=i, B1=B1, mse=mse_(B1)))"
   ]
  },
  {
   "cell_type": "markdown",
   "metadata": {},
   "source": [
    "### 3. В каких случаях для вычисления доверительных интервалов и проверки статистических гипотез используется таблица значений функции Лапласа, а в каких - таблица критических точек распределения Стьюдента? "
   ]
  },
  {
   "cell_type": "markdown",
   "metadata": {},
   "source": [
    "Таблица критических точек распределения Стьюдента используется, если $\\sigma$ - среднее квадратичное отклонение неизвестно. Если $\\sigma$ известно, используется z-таблица.   "
   ]
  },
  {
   "cell_type": "markdown",
   "metadata": {},
   "source": [
    "### *4. Произвести вычисления как в пункте 2, но с вычислением intercept. Учесть, что изменение коэффициентов должно производиться на каждом шаге одновременно (то есть изменение одного коэффициента не должно влиять на изменение другого во время одной итерации).\n",
    "\n",
    "$$y = \\beta_0 + \\beta_1 * x$$"
   ]
  },
  {
   "cell_type": "code",
   "execution_count": 41,
   "metadata": {},
   "outputs": [],
   "source": [
    "B1 = 0.1\n",
    "B0 = 0.1\n",
    "alpha = 5e-5"
   ]
  },
  {
   "cell_type": "code",
   "execution_count": 29,
   "metadata": {},
   "outputs": [],
   "source": [
    "def mse_(B0, B1, y=y, x=x, n=10):\n",
    "    return np.sum((B0 + B1*x-y)**2)/n"
   ]
  },
  {
   "cell_type": "code",
   "execution_count": 43,
   "metadata": {},
   "outputs": [
    {
     "name": "stdout",
     "output_type": "stream",
     "text": [
      "Iteration: 0, B0=444.1771238463115, B1=2.6205406009044263, mse=6470.414201190486\n",
      "Iteration: 30000, B0=444.177248239628, B1=2.6205396853146192, mse=6470.414201179677\n",
      "Iteration: 60000, B0=444.17730635820675, B1=2.6205392575361834, mse=6470.41420117732\n",
      "Iteration: 90000, B0=444.17733351214605, B1=2.620539057671185, mse=6470.4142011768035\n",
      "Iteration: 120000, B0=444.1773461989089, B1=2.620538964291002, mse=6470.414201176691\n",
      "Iteration: 150000, B0=444.17735212636813, B1=2.620538920662281, mse=6470.414201176669\n",
      "Iteration: 180000, B0=444.17735489577376, B1=2.620538900278231, mse=6470.414201176662\n",
      "Iteration: 210000, B0=444.17735618968504, B1=2.6205388907544718, mse=6470.414201176662\n",
      "Iteration: 240000, B0=444.17735679422117, B1=2.6205388863048187, mse=6470.414201176658\n",
      "Iteration: 270000, B0=444.17735707667094, B1=2.6205388842258635, mse=6470.414201176663\n",
      "Iteration: 300000, B0=444.17735720863436, B1=2.620538883254554, mse=6470.414201176662\n",
      "Iteration: 330000, B0=444.1773572702843, B1=2.620538882800784, mse=6470.41420117666\n",
      "Iteration: 360000, B0=444.1773572990885, B1=2.6205388825887717, mse=6470.414201176658\n",
      "Iteration: 390000, B0=444.1773573125351, B1=2.620538882489799, mse=6470.414201176659\n",
      "Iteration: 420000, B0=444.1773573188573, B1=2.620538882443265, mse=6470.414201176656\n",
      "Iteration: 450000, B0=444.1773573216331, B1=2.6205388824228337, mse=6470.414201176663\n",
      "Iteration: 480000, B0=444.17735732323933, B1=2.6205388824110107, mse=6470.414201176658\n",
      "Iteration: 510000, B0=444.17735732323933, B1=2.6205388824110107, mse=6470.414201176658\n",
      "Iteration: 540000, B0=444.17735732323933, B1=2.6205388824110107, mse=6470.414201176658\n",
      "Iteration: 570000, B0=444.17735732323933, B1=2.6205388824110107, mse=6470.414201176658\n",
      "Iteration: 600000, B0=444.17735732323933, B1=2.6205388824110107, mse=6470.414201176658\n",
      "Iteration: 630000, B0=444.17735732323933, B1=2.6205388824110107, mse=6470.414201176658\n",
      "Iteration: 660000, B0=444.17735732323933, B1=2.6205388824110107, mse=6470.414201176658\n",
      "Iteration: 690000, B0=444.17735732323933, B1=2.6205388824110107, mse=6470.414201176658\n",
      "Iteration: 720000, B0=444.17735732323933, B1=2.6205388824110107, mse=6470.414201176658\n"
     ]
    }
   ],
   "source": [
    "for i in range(750000):\n",
    "    y_pred = B0 + B1 * x\n",
    "    B0 -= alpha*(2/n)*np.sum((y_pred - y))\n",
    "    B1 -= alpha*(2/n)*np.sum((y_pred - y)*x)\n",
    "    if i % 30000 == 0:\n",
    "        print('Iteration: {i}, B0={B0}, B1={B1}, mse={mse}'.format(i=i, B0=B0, B1=B1, mse=mse_(B0, B1)))"
   ]
  },
  {
   "cell_type": "code",
   "execution_count": null,
   "metadata": {},
   "outputs": [],
   "source": []
  }
 ],
 "metadata": {
  "kernelspec": {
   "display_name": "Python 3",
   "language": "python",
   "name": "python3"
  },
  "language_info": {
   "codemirror_mode": {
    "name": "ipython",
    "version": 3
   },
   "file_extension": ".py",
   "mimetype": "text/x-python",
   "name": "python",
   "nbconvert_exporter": "python",
   "pygments_lexer": "ipython3",
   "version": "3.7.4"
  }
 },
 "nbformat": 4,
 "nbformat_minor": 2
}
