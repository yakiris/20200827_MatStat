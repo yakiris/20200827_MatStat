{
 "cells": [
  {
   "cell_type": "markdown",
   "metadata": {},
   "source": [
    "## Тема: Дискретные случайные величины. Закон распределения вероятностей. Биномиальный закон распределения. Распределение Пуассона."
   ]
  },
  {
   "cell_type": "code",
   "execution_count": 1,
   "metadata": {},
   "outputs": [],
   "source": [
    "import numpy as np\n",
    "from math import factorial\n",
    "\n",
    "# функция расчета количества сочетаний\n",
    "def combinations(k, n):\n",
    "    return int(factorial(n) / (factorial(k) * factorial(n - k)))"
   ]
  },
  {
   "cell_type": "markdown",
   "metadata": {},
   "source": [
    "### 1. Вероятность того, что стрелок попадет в мишень, выстрелив один раз, равна 0.8. Стрелок выстрелил 100 раз. Найдите вероятность того, что стрелок попадет в цель ровно 85 раз.\n",
    "\n",
    "Можно применить формулу Бернулли $P_n = C_n^k p^k q^{n-k}$  "
   ]
  },
  {
   "cell_type": "code",
   "execution_count": 2,
   "metadata": {},
   "outputs": [
    {
     "data": {
      "text/plain": [
       "0.048"
      ]
     },
     "execution_count": 2,
     "metadata": {},
     "output_type": "execute_result"
    }
   ],
   "source": [
    "n = 100\n",
    "k = 85\n",
    "p = 0.8\n",
    "q = 1 - p\n",
    "P_n = np.round(combinations(k, n) * (p**k) * (q**(n-k)), 3)\n",
    "P_n"
   ]
  },
  {
   "cell_type": "markdown",
   "metadata": {},
   "source": [
    "**Ответ:** Вероятность того, что стрелок попадет в цель ровно 85 раз равно 0.048"
   ]
  },
  {
   "cell_type": "markdown",
   "metadata": {},
   "source": [
    "### 2. Вероятность того, что лампочка перегорит в течение первого дня эксплуатации, равна 0.0004. В жилом комплексе после ремонта в один день включили 5000 новых лампочек.   \n",
    "\n",
    "### Какова вероятность, что ни одна из них не перегорит в первый день? \n",
    "\n",
    "Можно применить формулу Пуассона $P_m \\approx \\frac{\\lambda^m}{m!}e^{-\\lambda}$"
   ]
  },
  {
   "cell_type": "code",
   "execution_count": 3,
   "metadata": {},
   "outputs": [
    {
     "data": {
      "text/plain": [
       "0.1353"
      ]
     },
     "execution_count": 3,
     "metadata": {},
     "output_type": "execute_result"
    }
   ],
   "source": [
    "m1 = 0\n",
    "n = 5000\n",
    "p = 0.0004\n",
    "lambda_ = n * p\n",
    "\n",
    "P1 = np.round((lambda_**m1 / np.math.factorial(m1)) * np.exp(-lambda_), 4)\n",
    "P1"
   ]
  },
  {
   "cell_type": "markdown",
   "metadata": {},
   "source": [
    "### Какова вероятность, что перегорят ровно две? "
   ]
  },
  {
   "cell_type": "code",
   "execution_count": 4,
   "metadata": {},
   "outputs": [
    {
     "data": {
      "text/plain": [
       "0.2707"
      ]
     },
     "execution_count": 4,
     "metadata": {},
     "output_type": "execute_result"
    }
   ],
   "source": [
    "m2 = 2\n",
    "n = 5000\n",
    "p = 0.0004\n",
    "lambda_ = n * p\n",
    "\n",
    "P2 = np.round((lambda_**m2 / np.math.factorial(m2)) * np.exp(-lambda_), 4)\n",
    "P2"
   ]
  },
  {
   "cell_type": "markdown",
   "metadata": {},
   "source": [
    "**Ответ:** вероятность, что ни одна лампочка не перегорит равна 0,1353 или 13%\n",
    "           вероятность, что перегорят ровно две лампочки равна 0,2707 или 27%"
   ]
  },
  {
   "cell_type": "markdown",
   "metadata": {},
   "source": [
    "### 3. Монету подбросили 144 раза. Какова вероятность, что орел выпадет ровно 70 раз?  \n",
    "\n",
    "Можно применить формулу Бернулли $P_n = C_n^k p^k q^{n-k}$ "
   ]
  },
  {
   "cell_type": "code",
   "execution_count": 15,
   "metadata": {},
   "outputs": [
    {
     "data": {
      "text/plain": [
       "0.0628"
      ]
     },
     "execution_count": 15,
     "metadata": {},
     "output_type": "execute_result"
    }
   ],
   "source": [
    "p = 1/2\n",
    "q = 1/2\n",
    "k = 70  \n",
    "n = 144\n",
    "\n",
    "P_n = np.round(combinations(k, n) * (p**k) * (q**(n-k)), 4)\n",
    "P_n"
   ]
  },
  {
   "cell_type": "markdown",
   "metadata": {},
   "source": [
    "**Ответ:** вероятность попадания равна 0.0628 или 6%"
   ]
  },
  {
   "cell_type": "markdown",
   "metadata": {},
   "source": [
    "### 4. В первом ящике находится 10 мячей, из которых 7 - белые. Во втором ящике - 11 мячей, из которых 9 белых. Из каждого ящика вытаскивают случайным образом по два мяча. \n",
    "\n",
    "### Какова вероятность того, что все мячи белые?  \n",
    "\n",
    "Можно использовать формулу **условной вероятности**"
   ]
  },
  {
   "cell_type": "code",
   "execution_count": 48,
   "metadata": {},
   "outputs": [
    {
     "data": {
      "text/plain": [
       "0.3054545454545454"
      ]
     },
     "execution_count": 48,
     "metadata": {},
     "output_type": "execute_result"
    }
   ],
   "source": [
    "# вероятность извлечения 2 белых мячей из 1 и из 2 ящика\n",
    "С = 7/10 * 6/9 * 9/11 * 8/10\n",
    "С"
   ]
  },
  {
   "cell_type": "markdown",
   "metadata": {},
   "source": [
    "**Ответ:** вероятность извлечения 4 белых мячей равна 0.3054"
   ]
  },
  {
   "cell_type": "markdown",
   "metadata": {},
   "source": [
    "### Какова вероятность того, что ровно два мяча белые?\n",
    "\n",
    "Событие состоит из 3 случаев: \n",
    "1. 2 белых и 0 черных из первого ящика, 0 белых и 2 черных из второго\n",
    "2. 1 белый и 1 черный из первого ящика, 1 белый и 1 черный из второго\n",
    "3. 0 белых и 2 черных из первого ящика, 2 белых и 0 черных из второго"
   ]
  },
  {
   "cell_type": "code",
   "execution_count": 40,
   "metadata": {},
   "outputs": [
    {
     "data": {
      "text/plain": [
       "0.0085"
      ]
     },
     "execution_count": 40,
     "metadata": {},
     "output_type": "execute_result"
    }
   ],
   "source": [
    "p1 = np.round(combinations(2, 7)/combinations(2, 10)*combinations(2, 2)/combinations(2, 11), 4)\n",
    "p1"
   ]
  },
  {
   "cell_type": "code",
   "execution_count": 43,
   "metadata": {},
   "outputs": [
    {
     "data": {
      "text/plain": [
       "0.1527"
      ]
     },
     "execution_count": 43,
     "metadata": {},
     "output_type": "execute_result"
    }
   ],
   "source": [
    "p2 = np.round(combinations(1, 7)*combinations(1, 3)/combinations(2, 10)*combinations(1, 9)*combinations(1, 2)/combinations(2, 11), 4)\n",
    "p2"
   ]
  },
  {
   "cell_type": "code",
   "execution_count": 42,
   "metadata": {},
   "outputs": [
    {
     "data": {
      "text/plain": [
       "0.0436"
      ]
     },
     "execution_count": 42,
     "metadata": {},
     "output_type": "execute_result"
    }
   ],
   "source": [
    "p3 = np.round(combinations(2, 3)/combinations(2, 10)*combinations(2, 9)/combinations(2, 11), 4)\n",
    "p3"
   ]
  },
  {
   "cell_type": "code",
   "execution_count": 44,
   "metadata": {},
   "outputs": [
    {
     "data": {
      "text/plain": [
       "0.2048"
      ]
     },
     "execution_count": 44,
     "metadata": {},
     "output_type": "execute_result"
    }
   ],
   "source": [
    "p = p1 + p2 + p3\n",
    "p"
   ]
  },
  {
   "cell_type": "markdown",
   "metadata": {},
   "source": [
    "**Ответ:** вероятность извлечения ровно двух мячей равна 0.2048"
   ]
  },
  {
   "cell_type": "markdown",
   "metadata": {},
   "source": [
    "### Какова вероятность того, что хотя бы один мяч белый?\n",
    "\n",
    "Можно использовать формулу противоположного события $P(A) = 1 - P(\\overline{A})$.\n",
    "\n",
    "Для расчета вероятности противоположного события **А_** можно использовать формулу **условной вероятности**. "
   ]
  },
  {
   "cell_type": "code",
   "execution_count": 20,
   "metadata": {},
   "outputs": [
    {
     "data": {
      "text/plain": [
       "0.0012"
      ]
     },
     "execution_count": 20,
     "metadata": {},
     "output_type": "execute_result"
    }
   ],
   "source": [
    "A_ = np.round(3/10 * 2/9 * 2/11 * 1/10, 4)\n",
    "A_"
   ]
  },
  {
   "cell_type": "code",
   "execution_count": 21,
   "metadata": {},
   "outputs": [
    {
     "data": {
      "text/plain": [
       "0.9988"
      ]
     },
     "execution_count": 21,
     "metadata": {},
     "output_type": "execute_result"
    }
   ],
   "source": [
    "A = (1 - A_)\n",
    "A"
   ]
  },
  {
   "cell_type": "markdown",
   "metadata": {},
   "source": [
    "**Ответ:** вероятность извлечения хотя бы одного белого мяча равна 0.9964 "
   ]
  },
  {
   "cell_type": "code",
   "execution_count": null,
   "metadata": {},
   "outputs": [],
   "source": []
  }
 ],
 "metadata": {
  "kernelspec": {
   "display_name": "Python 3",
   "language": "python",
   "name": "python3"
  },
  "language_info": {
   "codemirror_mode": {
    "name": "ipython",
    "version": 3
   },
   "file_extension": ".py",
   "mimetype": "text/x-python",
   "name": "python",
   "nbconvert_exporter": "python",
   "pygments_lexer": "ipython3",
   "version": "3.7.4"
  }
 },
 "nbformat": 4,
 "nbformat_minor": 2
}
