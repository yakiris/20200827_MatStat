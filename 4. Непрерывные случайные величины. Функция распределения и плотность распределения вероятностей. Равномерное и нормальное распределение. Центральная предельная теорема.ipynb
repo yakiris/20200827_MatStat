{
 "cells": [
  {
   "cell_type": "markdown",
   "metadata": {},
   "source": [
    "## Тема: Непрерывные случайные величины. Функция распределения и плотность распределения вероятностей. Равномерное и нормальное распределение. Центральная предельная теорема"
   ]
  },
  {
   "cell_type": "code",
   "execution_count": 4,
   "metadata": {},
   "outputs": [],
   "source": [
    "import numpy as np\n",
    "from scipy.stats import norm"
   ]
  },
  {
   "cell_type": "markdown",
   "metadata": {},
   "source": [
    "### 1. Случайная непрерывная величина A имеет равномерное распределение на промежутке (200, 800]. Найдите ее среднее значение и дисперсию."
   ]
  },
  {
   "cell_type": "code",
   "execution_count": 2,
   "metadata": {},
   "outputs": [
    {
     "name": "stdout",
     "output_type": "stream",
     "text": [
      "Среднее значение величины А = 500.0 и ее дисперсия = 30000.0\n"
     ]
    }
   ],
   "source": [
    "a = 200\n",
    "b = 800\n",
    "\n",
    "M_x = (a + b) / 2\n",
    "D_x = (b - a)**2 / 12\n",
    "\n",
    "print(f'Среднее значение величины А = {M_x} и ее дисперсия = {D_x}')"
   ]
  },
  {
   "cell_type": "markdown",
   "metadata": {},
   "source": [
    "### 2. О случайной непрерывной равномерно распределенной величине B известно, что ее дисперсия равна 0.2. Можно ли найти правую границу величины B и ее среднее значение зная, что левая граница равна 0.5? Если да, найдите ее.\n",
    "\n",
    "D(X) = 0.2  \n",
    "a = 0.5  \n",
    "b - ?  \n",
    "M(X) - ?\n",
    "\n",
    "$$D(X) = \\frac{(b - a)^2}{12} \\Rightarrow b = \\sqrt{D(X) * 12} + a = \\sqrt{0.2 * 12} + 0.5$$\n",
    "\n",
    "$$M(X) = \\frac{a + b}{2}$$"
   ]
  },
  {
   "cell_type": "code",
   "execution_count": 4,
   "metadata": {},
   "outputs": [
    {
     "name": "stdout",
     "output_type": "stream",
     "text": [
      "Правая граница величины b = 2.05 и ее среднее значение M(X) = 1.275\n"
     ]
    }
   ],
   "source": [
    "d_x = 0.2\n",
    "a = 0.5\n",
    "\n",
    "b = np.round(np.sqrt(0.2 * 12) + 0.5, 2)\n",
    "\n",
    "m_x = (a + b) / 2\n",
    "\n",
    "print(f'Правая граница величины b = {b} и ее среднее значение M(X) = {m_x}')"
   ]
  },
  {
   "cell_type": "markdown",
   "metadata": {},
   "source": [
    "### 3. Непрерывная случайная величина X распределена нормально и задана плотностью распределения f(x) = (1 / (4 * sqrt(2*pi))) * (exp(-(x+2)**2) / 32). Найдите: а). M(X), б). D(X), в). std(X) (среднее квадратичное отклонение)\n",
    "\n",
    "$$f(x) = \\frac{1}{\\sigma \\sqrt{2\\pi}}e^{-\\frac{(x - a)^2}{2 \\sigma^2}} \\Rightarrow f(x) = \\frac{1}{4 \\sqrt{2\\pi}}e^{-\\frac{(x + 2)^2}{32}}$$\n",
    "\n",
    "a = M(X) = -2  \n",
    "$\\sigma$ = 4\n",
    "\n",
    "$$D(X) = \\sigma^2$$"
   ]
  },
  {
   "cell_type": "code",
   "execution_count": 4,
   "metadata": {},
   "outputs": [
    {
     "name": "stdout",
     "output_type": "stream",
     "text": [
      "M(X) = -2, D(X) = 16, std(X) = 4\n"
     ]
    }
   ],
   "source": [
    "a = -2\n",
    "sigma = 4\n",
    "D_X = sigma**2\n",
    "\n",
    "print(f'M(X) = {a}, D(X) = {D_X}, std(X) = {sigma}')"
   ]
  },
  {
   "cell_type": "markdown",
   "metadata": {},
   "source": [
    "### 4. Рост взрослого населения города X имеет нормальное распределение. Причем, средний рост равен 174 см, а среднее квадратичное отклонение равно 8 см. Какова вероятность того, что случайным образом выбранный взрослый человек имеет рост:"
   ]
  },
  {
   "cell_type": "code",
   "execution_count": 14,
   "metadata": {},
   "outputs": [],
   "source": [
    "M_X = 174\n",
    "sigma = 8\n",
    "\n",
    "# данные на основе правила трех сигм\n",
    "percent = {'-3.0':0.15, '-2.0':2.3, '-1.0':15.9, '1.0':84.1, '2.0':97.7, '3.0':99.85}\n",
    "\n",
    "# данные на основе z-таблицы\n",
    "table = {'-3.0':0.0013, '-2.0':0.0228, '-1.0':0.1587, '1.0':0.8413, '2.0':0.9772, '3.0':0.9987}"
   ]
  },
  {
   "cell_type": "markdown",
   "metadata": {},
   "source": [
    "### а). больше 182 см"
   ]
  },
  {
   "cell_type": "code",
   "execution_count": 12,
   "metadata": {},
   "outputs": [
    {
     "name": "stdout",
     "output_type": "stream",
     "text": [
      "z = 1.0; отклонение = 15.9%; вероятность = 0.1587, cdf = 0.1587\n"
     ]
    }
   ],
   "source": [
    "s1 = (182 - M_X)/sigma\n",
    "per_a = np.round(100 - percent[str(s1)], 4)\n",
    "p_a = np.round(1 - table[str(s1)], 4)\n",
    "cdf_a = np.round(1 - norm.cdf(s1), 4)\n",
    "print(f'z = {s1}; отклонение = {per_a}%; вероятность = {p_a}, cdf = {cdf_a}')"
   ]
  },
  {
   "cell_type": "markdown",
   "metadata": {},
   "source": [
    "### б). больше 190 см"
   ]
  },
  {
   "cell_type": "code",
   "execution_count": 17,
   "metadata": {},
   "outputs": [
    {
     "name": "stdout",
     "output_type": "stream",
     "text": [
      "z = 2.0; отклонение = 2.3%; вероятность = 0.0228, cdf = 0.0228\n"
     ]
    }
   ],
   "source": [
    "s2 = (190 - M_X)/sigma\n",
    "per_b = np.round(100 - percent[str(s2)], 4)\n",
    "p_b = np.round(1 - table[str(s2)], 4)\n",
    "cdf_b = np.round(1 - norm.cdf(s2), 4)\n",
    "print(f'z = {s2}; отклонение = {per_b}%; вероятность = {p_b}, cdf = {cdf_b}')"
   ]
  },
  {
   "cell_type": "markdown",
   "metadata": {},
   "source": [
    "### в). от 166 см до 190 см"
   ]
  },
  {
   "cell_type": "code",
   "execution_count": 22,
   "metadata": {},
   "outputs": [
    {
     "name": "stdout",
     "output_type": "stream",
     "text": [
      "z = от -1.0 до 2.0; отклонение = 81.8%, вероятность = 0.8185, cdf = 0.8186\n"
     ]
    }
   ],
   "source": [
    "s_1 = (166 - M_X)/sigma\n",
    "per_c = percent[str(s2)] - percent[str(s_1)]\n",
    "p_c = np.round(table[str(s2)] - table[str(s_1)], 4)\n",
    "cdf_c = np.round(norm.cdf(s2) - norm.cdf(s_1) , 4)\n",
    "print(f'z = от {s_1} до {s2}; отклонение = {per_c}%, вероятность = {p_c}, cdf = {cdf_c}')"
   ]
  },
  {
   "cell_type": "markdown",
   "metadata": {},
   "source": [
    "### г). от 166 см до 182 см"
   ]
  },
  {
   "cell_type": "code",
   "execution_count": 23,
   "metadata": {},
   "outputs": [
    {
     "name": "stdout",
     "output_type": "stream",
     "text": [
      "z = от -1.0 до 1.0; отклонение = 68.2%, вероятность = 0.6826, cdf = 0.6827\n"
     ]
    }
   ],
   "source": [
    "per_d = np.round(percent[str(s1)] - percent[str(s_1)], 4)\n",
    "p_d = np.round(table[str(s1)] - table[str(s_1)], 4)\n",
    "cdf_d = np.round(norm.cdf(s1) - norm.cdf(s_1), 4)\n",
    "print(f'z = от {s_1} до {s1}; отклонение = {per_d}%, вероятность = {p_d}, cdf = {cdf_d}')"
   ]
  },
  {
   "cell_type": "markdown",
   "metadata": {},
   "source": [
    "### д). от 158 см до 190 см"
   ]
  },
  {
   "cell_type": "code",
   "execution_count": 31,
   "metadata": {},
   "outputs": [
    {
     "name": "stdout",
     "output_type": "stream",
     "text": [
      "z = от -2.0 до 2.0; отклонение = 95.0%, вероятность = 0.9544, cdf = 0.9545\n"
     ]
    }
   ],
   "source": [
    "s_2 = (158 - M_X)/sigma\n",
    "per_e = np.round(percent[str(s2)] - percent[str(s_2)])\n",
    "p_e = np.round(table[str(s2)] - table[str(s_2)], 4)\n",
    "cdf_e = np.round(norm.cdf(s2) - norm.cdf(s_2), 4)\n",
    "print(f'z = от {s_2} до {s2}; отклонение = {per_e}%, вероятность = {p_e}, cdf = {cdf_e}')"
   ]
  },
  {
   "cell_type": "markdown",
   "metadata": {},
   "source": [
    "### е). не выше 150 см или не ниже 190 см"
   ]
  },
  {
   "cell_type": "code",
   "execution_count": 28,
   "metadata": {},
   "outputs": [
    {
     "name": "stdout",
     "output_type": "stream",
     "text": [
      "z = до -3.0 или от 2.0; отклонение = 2.45%, вероятность = 0.0241, cdf = 0.0241\n"
     ]
    }
   ],
   "source": [
    "s_3 = (150 - M_X)/sigma\n",
    "per_f = np.round(percent[str(s_3)] + (100 - percent[str(s2)]), 4)\n",
    "p_f = np.round(table[str(s_3)] + (1 - table[str(s2)]), 4)\n",
    "cdf_f = np.round(norm.cdf(s_3) + (1 - norm.cdf(s2)), 4)\n",
    "print(f'z = до {s_3} или от {s2}; отклонение = {per_f}%, вероятность = {p_f}, cdf = {cdf_f}')"
   ]
  },
  {
   "cell_type": "markdown",
   "metadata": {},
   "source": [
    "### ё). не выше 150 см или не ниже 198 см"
   ]
  },
  {
   "cell_type": "code",
   "execution_count": 30,
   "metadata": {},
   "outputs": [
    {
     "name": "stdout",
     "output_type": "stream",
     "text": [
      "z = до -3.0 или от 3.0; отклонение = 0.3%, вероятность = 0.0026, cdf = 0.0027\n"
     ]
    }
   ],
   "source": [
    "s3 = (198 - M_X)/sigma\n",
    "per_g = np.round(percent[str(s_3)] + (100 - percent[str(s3)]), 2)\n",
    "p_g = np.round(table[str(s_3)] + (1 - table[str(s3)]), 4)\n",
    "cdf_g = np.round(norm.cdf(s_3) + (1 - norm.cdf(s3)), 4)\n",
    "print(f'z = до {s_3} или от {s3}; отклонение = {per_g}%, вероятность = {p_g}, cdf = {cdf_g}')"
   ]
  },
  {
   "cell_type": "markdown",
   "metadata": {},
   "source": [
    "### ж). ниже 166 см"
   ]
  },
  {
   "cell_type": "code",
   "execution_count": 32,
   "metadata": {},
   "outputs": [
    {
     "name": "stdout",
     "output_type": "stream",
     "text": [
      "z = до -1.0; отклонение = 84.1%, вероятность = 0.8413, cdf = 0.8413\n"
     ]
    }
   ],
   "source": [
    "per_h = 100 - percent[str(s_1)]\n",
    "p_h = np.round(1 - table[str(s_1)], 4)\n",
    "cdf_h = np.round(1 - norm.cdf(s_1), 4)\n",
    "print(f'z = до {s_1}; отклонение = {per_h}%, вероятность = {p_h}, cdf = {cdf_h}')"
   ]
  },
  {
   "cell_type": "markdown",
   "metadata": {},
   "source": [
    "### 5. На сколько сигм (средних квадратичных отклонений) отклоняется рост человека, равный 190 см, от математического ожидания роста в популяции, в которой M(X) = 178 см и D(X) = 25 кв.см?"
   ]
  },
  {
   "cell_type": "code",
   "execution_count": 6,
   "metadata": {},
   "outputs": [
    {
     "data": {
      "text/plain": [
       "2.4"
      ]
     },
     "execution_count": 6,
     "metadata": {},
     "output_type": "execute_result"
    }
   ],
   "source": [
    "x = 190\n",
    "M_X = 178\n",
    "D_X = 25\n",
    "sigma = np.sqrt(D_X)\n",
    "\n",
    "y = (x - M_X)/sigma\n",
    "y"
   ]
  },
  {
   "cell_type": "code",
   "execution_count": null,
   "metadata": {},
   "outputs": [],
   "source": []
  }
 ],
 "metadata": {
  "kernelspec": {
   "display_name": "Python 3",
   "language": "python",
   "name": "python3"
  },
  "language_info": {
   "codemirror_mode": {
    "name": "ipython",
    "version": 3
   },
   "file_extension": ".py",
   "mimetype": "text/x-python",
   "name": "python",
   "nbconvert_exporter": "python",
   "pygments_lexer": "ipython3",
   "version": "3.7.4"
  }
 },
 "nbformat": 4,
 "nbformat_minor": 2
}
