{
 "cells": [
  {
   "cell_type": "markdown",
   "metadata": {},
   "source": [
    "## Тема: Непрерывные случайные величины. Функция распределения и плотность распределения вероятностей. Равномерное и нормальное распределение. Центральная предельная теорема"
   ]
  },
  {
   "cell_type": "code",
   "execution_count": 1,
   "metadata": {},
   "outputs": [],
   "source": [
    "import numpy as np"
   ]
  },
  {
   "cell_type": "markdown",
   "metadata": {},
   "source": [
    "### 1. Случайная непрерывная величина A имеет равномерное распределение на промежутке (200, 800]. Найдите ее среднее значение и дисперсию."
   ]
  },
  {
   "cell_type": "code",
   "execution_count": 2,
   "metadata": {},
   "outputs": [
    {
     "name": "stdout",
     "output_type": "stream",
     "text": [
      "Среднее значение величины А = 500.0 и ее дисперсия = 30000.0\n"
     ]
    }
   ],
   "source": [
    "a = 200\n",
    "b = 800\n",
    "\n",
    "M_x = (a + b) / 2\n",
    "D_x = (b - a)**2 / 12\n",
    "\n",
    "print(f'Среднее значение величины А = {M_x} и ее дисперсия = {D_x}')"
   ]
  },
  {
   "cell_type": "markdown",
   "metadata": {},
   "source": [
    "### 2. О случайной непрерывной равномерно распределенной величине B известно, что ее дисперсия равна 0.2. Можно ли найти правую границу величины B и ее среднее значение зная, что левая граница равна 0.5? Если да, найдите ее.\n",
    "\n",
    "D(X) = 0.2  \n",
    "a = 0.5  \n",
    "b - ?  \n",
    "M(X) - ?\n",
    "\n",
    "$$D(X) = \\frac{(b - a)^2}{12} \\Rightarrow b = \\frac{\\sqrt{D(X) * 12}}{a} = \\frac{\\sqrt{0.2 * 12}}{0.5}$$\n",
    "\n",
    "$$M(X) = \\frac{a + b}{2}$$"
   ]
  },
  {
   "cell_type": "code",
   "execution_count": 3,
   "metadata": {},
   "outputs": [
    {
     "name": "stdout",
     "output_type": "stream",
     "text": [
      "Правая граница величины В = 3.1 и ее среднее значение = 1.8\n"
     ]
    }
   ],
   "source": [
    "d_x = 0.2\n",
    "a = 0.5\n",
    "\n",
    "b = np.round(np.sqrt(0.2 * 12)/0.5, 2)\n",
    "\n",
    "m_x = (a + b) / 2\n",
    "\n",
    "print(f'Правая граница величины В = {b} и ее среднее значение = {m_x}')"
   ]
  },
  {
   "cell_type": "markdown",
   "metadata": {},
   "source": [
    "### 3. Непрерывная случайная величина X распределена нормально и задана плотностью распределения f(x) = (1 / (4 * sqrt(2*pi))) * (exp(-(x+2)**2) / 32). Найдите: а). M(X), б). D(X), в). std(X) (среднее квадратичное отклонение)\n",
    "\n",
    "$$f(x) = \\frac{1}{\\sigma \\sqrt{2\\pi}}e^{-\\frac{(x - a)^2}{2 \\sigma^2}} \\Rightarrow f(x) = \\frac{1}{4 \\sqrt{2\\pi}}e^{-\\frac{(x + 2)^2}{32}}$$\n",
    "\n",
    "a = M(X) = -2  \n",
    "$\\sigma$ = 4\n",
    "\n",
    "$$D(X) = \\sigma^2$$"
   ]
  },
  {
   "cell_type": "code",
   "execution_count": 4,
   "metadata": {},
   "outputs": [
    {
     "name": "stdout",
     "output_type": "stream",
     "text": [
      "M(X) = -2, D(X) = 16, std(X) = 4\n"
     ]
    }
   ],
   "source": [
    "a = -2\n",
    "sigma = 4\n",
    "D_X = sigma**2\n",
    "\n",
    "print(f'M(X) = {a}, D(X) = {D_X}, std(X) = {sigma}')"
   ]
  },
  {
   "cell_type": "markdown",
   "metadata": {},
   "source": [
    "### 4. Рост взрослого населения города X имеет нормальное распределение. Причем, средний рост равен 174 см, а среднее квадратичное отклонение равно 8 см. Какова вероятность того, что случайным образом выбранный взрослый человек имеет рост: а). больше 182 см, б). больше 190 см, в). от 166 см до 190 см, г). от 166 см до 182 см, д). от 158 см до 190 см, е). не выше 150 см или не ниже 190 см, ё). не выше 150 см или не ниже 198 см, ж). ниже 166 см."
   ]
  },
  {
   "cell_type": "code",
   "execution_count": 27,
   "metadata": {},
   "outputs": [
    {
     "name": "stdout",
     "output_type": "stream",
     "text": [
      "а). больше 182 см = 32%\n",
      "б). больше 190 см = 4.6%\n",
      "в). от 166 см до 190 см = 32%\n",
      "г). от 166 см до 182 см = 32%\n",
      "д). от 158 см до 190 см = 4.6%\n",
      "е). не выше 150 см или не ниже 190 см = 0.27%\n",
      "ё). не выше 150 см или не ниже 198 см = 0.27%\n",
      "ж). ниже 166 см = 32%\n"
     ]
    }
   ],
   "source": [
    "M_X = 174\n",
    "sigma = 8\n",
    "\n",
    "dict_data = {'а). больше 182 см':182, \n",
    "           'б). больше 190 см':190, \n",
    "           'в). от 166 см до 190 см':166, \n",
    "           'г). от 166 см до 182 см':166, \n",
    "           'д). от 158 см до 190 см':158, \n",
    "           'е). не выше 150 см или не ниже 190 см':150, \n",
    "           'ё). не выше 150 см или не ниже 198 см':150, \n",
    "           'ж). ниже 166 см':166}\n",
    "\n",
    "percent = {'1.0': '32%', '2.0':'4.6%', '3.0':'0.27%'}\n",
    "\n",
    "for key, item in dict_data.items():\n",
    "    j = str(abs(M_X - item) / 8)\n",
    "    print(f'{key} = {percent[j]}')"
   ]
  },
  {
   "cell_type": "markdown",
   "metadata": {},
   "source": [
    "### 5. На сколько сигм (средних квадратичных отклонений) отклоняется рост человека, равный 190 см, от математического ожидания роста в популяции, в которой M(X) = 178 см и D(X) = 25 кв.см?"
   ]
  },
  {
   "cell_type": "code",
   "execution_count": 6,
   "metadata": {},
   "outputs": [
    {
     "data": {
      "text/plain": [
       "2.4"
      ]
     },
     "execution_count": 6,
     "metadata": {},
     "output_type": "execute_result"
    }
   ],
   "source": [
    "x = 190\n",
    "M_X = 178\n",
    "D_X = 25\n",
    "sigma = np.sqrt(D_X)\n",
    "\n",
    "y = (x - M_X)/sigma\n",
    "y"
   ]
  },
  {
   "cell_type": "code",
   "execution_count": null,
   "metadata": {},
   "outputs": [],
   "source": []
  }
 ],
 "metadata": {
  "kernelspec": {
   "display_name": "Python 3",
   "language": "python",
   "name": "python3"
  },
  "language_info": {
   "codemirror_mode": {
    "name": "ipython",
    "version": 3
   },
   "file_extension": ".py",
   "mimetype": "text/x-python",
   "name": "python",
   "nbconvert_exporter": "python",
   "pygments_lexer": "ipython3",
   "version": "3.7.4"
  }
 },
 "nbformat": 4,
 "nbformat_minor": 2
}
